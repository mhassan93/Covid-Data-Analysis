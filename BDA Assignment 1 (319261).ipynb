{
 "cells": [
  {
   "cell_type": "code",
   "execution_count": 239,
   "metadata": {},
   "outputs": [],
   "source": [
    "import pandas as pd\n",
    "import numpy as np\n",
    "import datetime\n",
    "from scipy.spatial import distance\n",
    "import matplotlib.pyplot as plt\n",
    "import plotly.express as px"
   ]
  },
  {
   "cell_type": "code",
   "execution_count": 322,
   "metadata": {},
   "outputs": [
    {
     "name": "stderr",
     "output_type": "stream",
     "text": [
      "/opt/anaconda3/lib/python3.7/site-packages/IPython/core/interactiveshell.py:3072: DtypeWarning:\n",
      "\n",
      "Columns (7,8,9,10,11,12,39) have mixed types.Specify dtype option on import or set low_memory=False.\n",
      "\n"
     ]
    }
   ],
   "source": [
    "dataset = pd.read_csv(\"data.csv\") #reading the data into dataframe"
   ]
  },
  {
   "cell_type": "code",
   "execution_count": 323,
   "metadata": {},
   "outputs": [
    {
     "data": {
      "text/html": [
       "<div>\n",
       "<style scoped>\n",
       "    .dataframe tbody tr th:only-of-type {\n",
       "        vertical-align: middle;\n",
       "    }\n",
       "\n",
       "    .dataframe tbody tr th {\n",
       "        vertical-align: top;\n",
       "    }\n",
       "\n",
       "    .dataframe thead th {\n",
       "        text-align: right;\n",
       "    }\n",
       "</style>\n",
       "<table border=\"1\" class=\"dataframe\">\n",
       "  <thead>\n",
       "    <tr style=\"text-align: right;\">\n",
       "      <th></th>\n",
       "      <th>Unnamed: 0</th>\n",
       "      <th>Date_Time</th>\n",
       "      <th>id</th>\n",
       "      <th>age</th>\n",
       "      <th>gender</th>\n",
       "      <th>infection_status</th>\n",
       "      <th>days_since_infection</th>\n",
       "      <th>date_of_infection</th>\n",
       "      <th>date_of_symptoms</th>\n",
       "      <th>date_of_recovery</th>\n",
       "      <th>...</th>\n",
       "      <th>infected_from_user_id</th>\n",
       "      <th>transmitted_count</th>\n",
       "      <th>asymptomatic_transmission</th>\n",
       "      <th>locationID_of_infection</th>\n",
       "      <th>income</th>\n",
       "      <th>household_size</th>\n",
       "      <th>bmi</th>\n",
       "      <th>date_of_test</th>\n",
       "      <th>test_result</th>\n",
       "      <th>Scenario</th>\n",
       "    </tr>\n",
       "  </thead>\n",
       "  <tbody>\n",
       "    <tr>\n",
       "      <th>0</th>\n",
       "      <td>0</td>\n",
       "      <td>2020-01-01 00:00:00</td>\n",
       "      <td>32645</td>\n",
       "      <td>29</td>\n",
       "      <td>1</td>\n",
       "      <td>susceptible</td>\n",
       "      <td>0.0</td>\n",
       "      <td>NaN</td>\n",
       "      <td>NaN</td>\n",
       "      <td>NaN</td>\n",
       "      <td>...</td>\n",
       "      <td>-1</td>\n",
       "      <td>0</td>\n",
       "      <td>-1</td>\n",
       "      <td>-1</td>\n",
       "      <td>5774.248719</td>\n",
       "      <td>6</td>\n",
       "      <td>25</td>\n",
       "      <td>NaN</td>\n",
       "      <td>-1</td>\n",
       "      <td>0000001_20200922055707</td>\n",
       "    </tr>\n",
       "    <tr>\n",
       "      <th>1</th>\n",
       "      <td>1</td>\n",
       "      <td>2020-01-01 00:00:00</td>\n",
       "      <td>20022</td>\n",
       "      <td>30</td>\n",
       "      <td>1</td>\n",
       "      <td>susceptible</td>\n",
       "      <td>0.0</td>\n",
       "      <td>NaN</td>\n",
       "      <td>NaN</td>\n",
       "      <td>NaN</td>\n",
       "      <td>...</td>\n",
       "      <td>-1</td>\n",
       "      <td>0</td>\n",
       "      <td>-1</td>\n",
       "      <td>-1</td>\n",
       "      <td>14384.879182</td>\n",
       "      <td>1</td>\n",
       "      <td>24</td>\n",
       "      <td>NaN</td>\n",
       "      <td>-1</td>\n",
       "      <td>0000001_20200922055707</td>\n",
       "    </tr>\n",
       "    <tr>\n",
       "      <th>2</th>\n",
       "      <td>2</td>\n",
       "      <td>2020-01-01 00:00:00</td>\n",
       "      <td>18409</td>\n",
       "      <td>32</td>\n",
       "      <td>0</td>\n",
       "      <td>susceptible</td>\n",
       "      <td>0.0</td>\n",
       "      <td>NaN</td>\n",
       "      <td>NaN</td>\n",
       "      <td>NaN</td>\n",
       "      <td>...</td>\n",
       "      <td>-1</td>\n",
       "      <td>0</td>\n",
       "      <td>-1</td>\n",
       "      <td>-1</td>\n",
       "      <td>9502.567895</td>\n",
       "      <td>4</td>\n",
       "      <td>24</td>\n",
       "      <td>NaN</td>\n",
       "      <td>-1</td>\n",
       "      <td>0000001_20200922055707</td>\n",
       "    </tr>\n",
       "    <tr>\n",
       "      <th>3</th>\n",
       "      <td>3</td>\n",
       "      <td>2020-01-01 00:00:00</td>\n",
       "      <td>34113</td>\n",
       "      <td>29</td>\n",
       "      <td>1</td>\n",
       "      <td>susceptible</td>\n",
       "      <td>0.0</td>\n",
       "      <td>NaN</td>\n",
       "      <td>NaN</td>\n",
       "      <td>NaN</td>\n",
       "      <td>...</td>\n",
       "      <td>-1</td>\n",
       "      <td>0</td>\n",
       "      <td>-1</td>\n",
       "      <td>-1</td>\n",
       "      <td>7029.974753</td>\n",
       "      <td>5</td>\n",
       "      <td>20</td>\n",
       "      <td>NaN</td>\n",
       "      <td>-1</td>\n",
       "      <td>0000001_20200922055707</td>\n",
       "    </tr>\n",
       "    <tr>\n",
       "      <th>4</th>\n",
       "      <td>4</td>\n",
       "      <td>2020-01-01 00:00:00</td>\n",
       "      <td>40168</td>\n",
       "      <td>58</td>\n",
       "      <td>1</td>\n",
       "      <td>susceptible</td>\n",
       "      <td>0.0</td>\n",
       "      <td>NaN</td>\n",
       "      <td>NaN</td>\n",
       "      <td>NaN</td>\n",
       "      <td>...</td>\n",
       "      <td>-1</td>\n",
       "      <td>0</td>\n",
       "      <td>-1</td>\n",
       "      <td>-1</td>\n",
       "      <td>12378.711455</td>\n",
       "      <td>2</td>\n",
       "      <td>31</td>\n",
       "      <td>NaN</td>\n",
       "      <td>-1</td>\n",
       "      <td>0000001_20200922055707</td>\n",
       "    </tr>\n",
       "  </tbody>\n",
       "</table>\n",
       "<p>5 rows × 42 columns</p>\n",
       "</div>"
      ],
      "text/plain": [
       "   Unnamed: 0            Date_Time     id  age  gender infection_status  \\\n",
       "0           0  2020-01-01 00:00:00  32645   29       1      susceptible   \n",
       "1           1  2020-01-01 00:00:00  20022   30       1      susceptible   \n",
       "2           2  2020-01-01 00:00:00  18409   32       0      susceptible   \n",
       "3           3  2020-01-01 00:00:00  34113   29       1      susceptible   \n",
       "4           4  2020-01-01 00:00:00  40168   58       1      susceptible   \n",
       "\n",
       "   days_since_infection date_of_infection date_of_symptoms date_of_recovery  \\\n",
       "0                   0.0               NaN              NaN              NaN   \n",
       "1                   0.0               NaN              NaN              NaN   \n",
       "2                   0.0               NaN              NaN              NaN   \n",
       "3                   0.0               NaN              NaN              NaN   \n",
       "4                   0.0               NaN              NaN              NaN   \n",
       "\n",
       "   ... infected_from_user_id transmitted_count asymptomatic_transmission  \\\n",
       "0  ...                    -1                 0                        -1   \n",
       "1  ...                    -1                 0                        -1   \n",
       "2  ...                    -1                 0                        -1   \n",
       "3  ...                    -1                 0                        -1   \n",
       "4  ...                    -1                 0                        -1   \n",
       "\n",
       "   locationID_of_infection        income  household_size  bmi date_of_test  \\\n",
       "0                       -1   5774.248719               6   25          NaN   \n",
       "1                       -1  14384.879182               1   24          NaN   \n",
       "2                       -1   9502.567895               4   24          NaN   \n",
       "3                       -1   7029.974753               5   20          NaN   \n",
       "4                       -1  12378.711455               2   31          NaN   \n",
       "\n",
       "   test_result                Scenario  \n",
       "0           -1  0000001_20200922055707  \n",
       "1           -1  0000001_20200922055707  \n",
       "2           -1  0000001_20200922055707  \n",
       "3           -1  0000001_20200922055707  \n",
       "4           -1  0000001_20200922055707  \n",
       "\n",
       "[5 rows x 42 columns]"
      ]
     },
     "execution_count": 323,
     "metadata": {},
     "output_type": "execute_result"
    }
   ],
   "source": [
    "dataset.head()"
   ]
  },
  {
   "cell_type": "code",
   "execution_count": 324,
   "metadata": {},
   "outputs": [],
   "source": [
    "dataset[\"Date\"] = pd.to_datetime(dataset[\"Date_Time\"]).dt.date #Extracting date in a new column\n",
    "dataset[\"Time\"] = pd.to_datetime(dataset[\"Date_Time\"]).dt.time #Extracting time in a new column"
   ]
  },
  {
   "cell_type": "code",
   "execution_count": 325,
   "metadata": {},
   "outputs": [],
   "source": [
    "dataset[\"Date_Time\"] = pd.to_datetime(dataset[\"Date_Time\"])"
   ]
  },
  {
   "cell_type": "code",
   "execution_count": 337,
   "metadata": {},
   "outputs": [],
   "source": [
    "dataset[\"Dead\"] = pd.to_datetime(dataset[\"date_of_death\"]).dt.date"
   ]
  },
  {
   "cell_type": "markdown",
   "metadata": {},
   "source": [
    "# Task 1.1"
   ]
  },
  {
   "cell_type": "code",
   "execution_count": 166,
   "metadata": {},
   "outputs": [
    {
     "data": {
      "text/plain": [
       "1031"
      ]
     },
     "execution_count": 166,
     "metadata": {},
     "output_type": "execute_result"
    }
   ],
   "source": [
    "check_date = datetime.datetime(2020,3,1)\n",
    "check_date = pd.to_datetime(check_date)\n",
    "infected_df = dataset[(dataset.Date == check_date) & (dataset.infection_status.str.contains('infected'))]\n",
    "infected_df.id.nunique()"
   ]
  },
  {
   "cell_type": "markdown",
   "metadata": {},
   "source": [
    "## 1031 individuals were infected before 2020-03-01"
   ]
  },
  {
   "cell_type": "markdown",
   "metadata": {},
   "source": [
    "# Task 1.2"
   ]
  },
  {
   "cell_type": "code",
   "execution_count": 345,
   "metadata": {},
   "outputs": [
    {
     "data": {
      "text/plain": [
       "49"
      ]
     },
     "execution_count": 345,
     "metadata": {},
     "output_type": "execute_result"
    }
   ],
   "source": [
    "dead_df = dataset[(dataset.Date == check_date) & (dataset.infection_status == 'deceased')]\n",
    "dead_df.id.nunique()"
   ]
  },
  {
   "cell_type": "markdown",
   "metadata": {},
   "source": [
    "## 49 people died on 2020-03-01"
   ]
  },
  {
   "cell_type": "markdown",
   "metadata": {},
   "source": [
    "# Task 1.3"
   ]
  },
  {
   "cell_type": "code",
   "execution_count": 10,
   "metadata": {},
   "outputs": [
    {
     "data": {
      "text/plain": [
       "215"
      ]
     },
     "execution_count": 10,
     "metadata": {},
     "output_type": "execute_result"
    }
   ],
   "source": [
    "dead = dataset[(dataset.infection_status == 'deceased')]\n",
    "dead.id.nunique()"
   ]
  },
  {
   "cell_type": "code",
   "execution_count": 11,
   "metadata": {},
   "outputs": [
    {
     "data": {
      "text/plain": [
       "3854"
      ]
     },
     "execution_count": 11,
     "metadata": {},
     "output_type": "execute_result"
    }
   ],
   "source": [
    "infected = dataset[(dataset.infection_status == 'infected')]\n",
    "infected.id.nunique()"
   ]
  },
  {
   "cell_type": "code",
   "execution_count": 225,
   "metadata": {},
   "outputs": [
    {
     "data": {
      "text/plain": [
       "3658"
      ]
     },
     "execution_count": 225,
     "metadata": {},
     "output_type": "execute_result"
    }
   ],
   "source": [
    "recovered = dataset[(dataset.infection_status == 'recovered')]\n",
    "recovered.id.nunique()"
   ]
  },
  {
   "cell_type": "markdown",
   "metadata": {},
   "source": [
    "## Total deaths are 215, infections are 3854 and recoveries are 3658"
   ]
  },
  {
   "cell_type": "markdown",
   "metadata": {},
   "source": [
    "# Task 1.4"
   ]
  },
  {
   "cell_type": "code",
   "execution_count": 13,
   "metadata": {},
   "outputs": [
    {
     "data": {
      "text/plain": [
       "10000"
      ]
     },
     "execution_count": 13,
     "metadata": {},
     "output_type": "execute_result"
    }
   ],
   "source": [
    "dataset.id.nunique()"
   ]
  },
  {
   "cell_type": "markdown",
   "metadata": {},
   "source": [
    "## 10000 unique individuals in the dataset"
   ]
  },
  {
   "cell_type": "markdown",
   "metadata": {},
   "source": [
    "# Task 1.5"
   ]
  },
  {
   "cell_type": "code",
   "execution_count": 14,
   "metadata": {},
   "outputs": [
    {
     "name": "stdout",
     "output_type": "stream",
     "text": [
      "Names of Location Types  ['residential' 'shopping_mall' 'market' 'school' 'employment' 'hospital']\n",
      "Total unique location IDs  4575\n"
     ]
    }
   ],
   "source": [
    "print(\"Names of Location Types \",dataset.currentLocationType.unique())\n",
    "print(\"Total unique location IDs \",dataset.currentLocationID.nunique())"
   ]
  },
  {
   "cell_type": "markdown",
   "metadata": {},
   "source": [
    "## There are 4575 unique locations under 6 different location types. The names of these locations are residential, shopping mall, market, school, employment, hospital"
   ]
  },
  {
   "cell_type": "markdown",
   "metadata": {},
   "source": [
    "# Task 1.6"
   ]
  },
  {
   "cell_type": "code",
   "execution_count": 307,
   "metadata": {},
   "outputs": [],
   "source": [
    "#function to return the school location with minimum distance\n",
    "def findMinLoc(school_locs):\n",
    "    min_loc = ()\n",
    "    minDist = 100\n",
    "    for loc in school_locs:\n",
    "        temp = distance.euclidean(residence_loc,loc)\n",
    "        if(temp < minDist):\n",
    "            minDist = temp\n",
    "            min_loc = loc\n",
    "    return min_loc"
   ]
  },
  {
   "cell_type": "code",
   "execution_count": 313,
   "metadata": {},
   "outputs": [],
   "source": [
    "school_lon = dataset[(dataset[\"currentLocationType\"] == \"school\")].lon.unique()\n",
    "school_lat = dataset[(dataset[\"currentLocationType\"] == \"school\")].lat.unique()\n",
    "school_locs = list(zip(school_lat,school_lon))\n",
    "min_loc = findMinLoc(school_locs)"
   ]
  },
  {
   "cell_type": "code",
   "execution_count": 315,
   "metadata": {},
   "outputs": [
    {
     "name": "stdout",
     "output_type": "stream",
     "text": [
      "School ID with min Distance is  [3563]\n",
      "The location of the school is  (-6.204529, 106.797409)\n"
     ]
    }
   ],
   "source": [
    "print(\"School ID with min Distance is \",\n",
    "      dataset[(dataset[\"lon\"] == min_loc[1]) & (dataset[\"lat\"] == min_loc[0])].school_id.unique())\n",
    "print(\"The location of the school is \",min_loc)"
   ]
  },
  {
   "cell_type": "markdown",
   "metadata": {},
   "source": [
    "## The closest school to residence id 3115 is school id 3563 and \n",
    "## its location is (-6.204529, 106.797409)"
   ]
  },
  {
   "cell_type": "markdown",
   "metadata": {},
   "source": [
    "# Task 1.7"
   ]
  },
  {
   "cell_type": "code",
   "execution_count": 370,
   "metadata": {},
   "outputs": [
    {
     "name": "stdout",
     "output_type": "stream",
     "text": [
      "97.05763804917372 % people visited school at 8:00 AM\n"
     ]
    }
   ],
   "source": [
    "check_time = datetime.time(8,0,0)\n",
    "total_relevant_people = dataset[(dataset.age >= 30) & (dataset.age <= 60)]\n",
    "visited_school = total_relevant_people[(total_relevant_people.currentLocationType == \"school\") & \n",
    "                                       (total_relevant_people.Time == check_time)]\n",
    "# total_relevant_people = total_relevant_people.drop_duplicates(subset=['id'])\n",
    "print((visited_school.id.nunique()/total_relevant_people.id.nunique())*100, \"% people visited school at 8:00 AM\")"
   ]
  },
  {
   "cell_type": "markdown",
   "metadata": {},
   "source": [
    "## Percentage of people who visited school at 8:00 AM aged between 30 and 60 is 97.057%"
   ]
  },
  {
   "cell_type": "markdown",
   "metadata": {},
   "source": [
    "# Task 1.8"
   ]
  },
  {
   "cell_type": "code",
   "execution_count": 20,
   "metadata": {},
   "outputs": [],
   "source": [
    "temp = dataset[dataset.id == 37415]\n",
    "temp.to_csv('out.csv', index=False)\n",
    "#exporting the dataframe to csv and performing analysis using MS Excel"
   ]
  },
  {
   "cell_type": "markdown",
   "metadata": {},
   "source": [
    "## The most frequent path used was :\n",
    "## Residential-->Employment-->Employment-->Residential-->Residential"
   ]
  },
  {
   "cell_type": "markdown",
   "metadata": {},
   "source": [
    "# Task 1.9"
   ]
  },
  {
   "cell_type": "code",
   "execution_count": 427,
   "metadata": {},
   "outputs": [
    {
     "name": "stdout",
     "output_type": "stream",
     "text": [
      "Location of id 37415 at given Date and Time is 3564\n"
     ]
    },
    {
     "data": {
      "text/plain": [
       "56"
      ]
     },
     "execution_count": 427,
     "metadata": {},
     "output_type": "execute_result"
    }
   ],
   "source": [
    "#getting data for the given ID to extract location on given date and time\n",
    "id_data = dataset[(dataset[\"id\"] == 37415)] \n",
    "#setting a random date and time in (YYYY,MM,DD,HH,MM,SS) format\n",
    "c_date = pd.to_datetime(datetime.datetime(2020,3,1,8,0,0))\n",
    "loc = id_data[(id_data.Date_Time == c_date)].currentLocationID.iloc[0] #getting the location of 37415\n",
    "print(\"Location of id 37415 at given Date and Time is\",loc)\n",
    "dataset[(dataset.Date_Time == c_date) & \n",
    "        (dataset.currentLocationID == loc) & \n",
    "        (dataset.id != 37415)].id.nunique()"
   ]
  },
  {
   "cell_type": "markdown",
   "metadata": {},
   "source": [
    "## In the above scenario, there are 56 individuals in the proximity of id 37415"
   ]
  },
  {
   "cell_type": "markdown",
   "metadata": {},
   "source": [
    "# Task 1.10"
   ]
  },
  {
   "cell_type": "code",
   "execution_count": 22,
   "metadata": {},
   "outputs": [
    {
     "name": "stdout",
     "output_type": "stream",
     "text": [
      "Age  [30]\n",
      "Gender  [1]\n"
     ]
    }
   ],
   "source": [
    "age = dataset[(dataset[\"id\"] == 37415)].age.unique()\n",
    "gender = dataset[(dataset[\"id\"] == 37415)].gender.unique()\n",
    "infected = dataset[(dataset[\"infection_status\"] == \"infected\") & (dataset[\"id\"] == 37415)]\n",
    "infected.to_csv(\"out.csv\",index = False) #exporting csv for easy calculation of infection duration\n",
    "print(\"Age \",age)\n",
    "print(\"Gender \",gender)"
   ]
  },
  {
   "cell_type": "markdown",
   "metadata": {},
   "source": [
    "## The age of the individual is 30, he is male. He was infected for 29 days. He did not die and recovered on 12/04/2020"
   ]
  },
  {
   "cell_type": "markdown",
   "metadata": {},
   "source": [
    "# Task 1.11"
   ]
  },
  {
   "cell_type": "code",
   "execution_count": 23,
   "metadata": {},
   "outputs": [
    {
     "name": "stdout",
     "output_type": "stream",
     "text": [
      "Total healthcare workers  403\n",
      "Infected healthcare workers  387\n",
      "Deceased healthcare workers  25\n"
     ]
    }
   ],
   "source": [
    "health_workers = dataset[(dataset[\"type_of_job\"] == \"Health worker\")]\n",
    "workers_infected = health_workers[(health_workers[\"infection_status\"] == \"infected\")]\n",
    "workers_dead = health_workers[(health_workers[\"infection_status\"] == \"deceased\")]\n",
    "print(\"Total healthcare workers \",health_workers.id.nunique())\n",
    "print(\"Infected healthcare workers \",workers_infected.id.nunique())\n",
    "print(\"Deceased healthcare workers \",workers_dead.id.nunique())"
   ]
  },
  {
   "cell_type": "markdown",
   "metadata": {},
   "source": [
    "## Infection rate of healthcare workers is 96.02% and mortality rate is 6.2%"
   ]
  },
  {
   "cell_type": "markdown",
   "metadata": {},
   "source": [
    "# Task 1.12"
   ]
  },
  {
   "cell_type": "code",
   "execution_count": 70,
   "metadata": {},
   "outputs": [],
   "source": [
    "people = np.array(dataset[(dataset[\"infection_status\"] == \"deceased\")].loc[:,(\"age\",\"gender\")])\n",
    "group = np.array(dataset[(dataset[\"infection_status\"] == \"deceased\")].loc[:,(\"age\",\"gender\")].drop_duplicates(subset=[\"age\",\"gender\"]))\n",
    "survived = np.array(dataset[(dataset[\"infection_status\"] != \"deceased\")].loc[:,(\"age\",\"gender\")])"
   ]
  },
  {
   "cell_type": "code",
   "execution_count": 71,
   "metadata": {},
   "outputs": [],
   "source": [
    "rates = []\n",
    "for person in group:\n",
    "    deceased_ratio = np.count_nonzero((people == person)) \n",
    "    survived_ratio = np.count_nonzero((survived == person))\n",
    "    total = deceased_ratio + survived_ratio\n",
    "    rates.append((deceased_ratio/total)*100)"
   ]
  },
  {
   "cell_type": "code",
   "execution_count": 80,
   "metadata": {},
   "outputs": [
    {
     "name": "stdout",
     "output_type": "stream",
     "text": [
      "Mortality Rate for age and gender  [58  1]  is  0.6860491530190598\n",
      "Mortality Rate for age and gender  [31  0]  is  0.6910325544238067\n",
      "Mortality Rate for age and gender  [44  1]  is  0.6913254692050783\n",
      "Mortality Rate for age and gender  [39  1]  is  0.6913823071997073\n",
      "Mortality Rate for age and gender  [59  1]  is  0.6924423454222912\n",
      "Mortality Rate for age and gender  [38  0]  is  0.6927739146776922\n",
      "Mortality Rate for age and gender  [32  0]  is  0.6932940941505422\n",
      "Mortality Rate for age and gender  [84  0]  is  0.6939069117140483\n",
      "Mortality Rate for age and gender  [42  1]  is  0.6960549348559076\n",
      "Mortality Rate for age and gender  [76  0]  is  0.6963298139768729\n",
      "Mortality Rate for age and gender  [57  1]  is  0.6998214621311784\n",
      "Mortality Rate for age and gender  [44  0]  is  0.7041432937897436\n",
      "Mortality Rate for age and gender  [33  0]  is  0.7074273289082169\n",
      "Mortality Rate for age and gender  [62  1]  is  0.7097399162948995\n",
      "Mortality Rate for age and gender  [33  1]  is  0.7123602236421726\n",
      "Mortality Rate for age and gender  [49  1]  is  0.7136560346209329\n",
      "Mortality Rate for age and gender  [38  1]  is  0.7176166711469011\n",
      "Mortality Rate for age and gender  [41  1]  is  0.7191468219580113\n",
      "Mortality Rate for age and gender  [59  0]  is  0.7284871250597349\n",
      "Mortality Rate for age and gender  [86  1]  is  0.7289251069667179\n",
      "Mortality Rate for age and gender  [60  0]  is  0.740109217801142\n",
      "Mortality Rate for age and gender  [37  0]  is  0.7443813782823071\n",
      "Mortality Rate for age and gender  [31  1]  is  0.7837228981794895\n",
      "Mortality Rate for age and gender  [58  0]  is  0.7997324124050865\n",
      "Mortality Rate for age and gender  [32  1]  is  0.8346674595187998\n",
      "Mortality Rate for age and gender  [47  1]  is  0.8565308221720273\n",
      "Mortality Rate for age and gender  [52  0]  is  0.8738621809532523\n",
      "Mortality Rate for age and gender  [61  0]  is  1.2386099017920422\n",
      "Mortality Rate for age and gender  [62  0]  is  1.2675919320319087\n",
      "Mortality Rate for age and gender  [61  1]  is  1.2958593179392102\n",
      "Mortality Rate for age and gender  [37  1]  is  1.3061325928972987\n",
      "Mortality Rate for age and gender  [57  0]  is  1.3142005461330084\n",
      "Mortality Rate for age and gender  [54  0]  is  1.3154694010568215\n",
      "Mortality Rate for age and gender  [53  1]  is  1.3211448312763905\n",
      "Mortality Rate for age and gender  [54  1]  is  1.3212403300973155\n",
      "Mortality Rate for age and gender  [75  1]  is  1.322643170798646\n",
      "Mortality Rate for age and gender  [60  1]  is  1.3243509694380544\n",
      "Mortality Rate for age and gender  [71  0]  is  1.3259170007440393\n",
      "Mortality Rate for age and gender  [36  1]  is  1.3261371494204377\n",
      "Mortality Rate for age and gender  [43  0]  is  1.3278377757352942\n",
      "Mortality Rate for age and gender  [82  1]  is  1.3291063216418422\n",
      "Mortality Rate for age and gender  [42  0]  is  1.331189031190205\n",
      "Mortality Rate for age and gender  [43  1]  is  1.3312461856250881\n",
      "Mortality Rate for age and gender  [39  0]  is  1.3336804783580432\n",
      "Mortality Rate for age and gender  [56  1]  is  1.3402701610575536\n",
      "Mortality Rate for age and gender  [35  1]  is  1.3437749401436554\n",
      "Mortality Rate for age and gender  [84  1]  is  1.3458933305305445\n",
      "Mortality Rate for age and gender  [76  1]  is  1.349143005932165\n",
      "Mortality Rate for age and gender  [70  0]  is  1.3607667453424688\n",
      "Mortality Rate for age and gender  [68  0]  is  1.3682124477880597\n",
      "Mortality Rate for age and gender  [56  0]  is  1.3984014351661411\n",
      "Mortality Rate for age and gender  [85  0]  is  1.4143985099867453\n",
      "Mortality Rate for age and gender  [47  0]  is  1.4265315205527356\n",
      "Mortality Rate for age and gender  [79  0]  is  1.4493064125417068\n",
      "Mortality Rate for age and gender  [53  0]  is  1.4884706796471503\n"
     ]
    }
   ],
   "source": [
    "rates.sort()\n",
    "for i,person in enumerate(group):\n",
    "    print(\"Mortality Rate for age and gender \", person, \" is \", rates[i] )"
   ]
  },
  {
   "cell_type": "markdown",
   "metadata": {},
   "source": [
    "## As is evident by the above output, the mortality rate does change with age and gender"
   ]
  },
  {
   "cell_type": "markdown",
   "metadata": {},
   "source": [
    "# Task 2.1"
   ]
  },
  {
   "cell_type": "code",
   "execution_count": 26,
   "metadata": {},
   "outputs": [],
   "source": [
    "#function to get sum of cases w.r.t dates\n",
    "def getCases(dates, case_dates):\n",
    "    cases = []\n",
    "    temp = 0\n",
    "    for i in range(len(dates)):\n",
    "        temp = 0\n",
    "        for j in range(len(case_dates)):\n",
    "            if(case_dates.iloc[j] == dates.iloc[i]):\n",
    "                temp += 1\n",
    "        cases.append(temp)\n",
    "    return cases"
   ]
  },
  {
   "cell_type": "code",
   "execution_count": 27,
   "metadata": {},
   "outputs": [],
   "source": [
    "#getting infections list from the data\n",
    "infected_data = dataset[(dataset.infection_status == 'infected')]\n",
    "infected_dates = infected_data.drop_duplicates(subset=['id']).Date\n",
    "dates_inf = infected_data.drop_duplicates(subset=['Date']).Date\n",
    "infections_list = getCases(dates_inf,infected_dates)"
   ]
  },
  {
   "cell_type": "code",
   "execution_count": 28,
   "metadata": {},
   "outputs": [],
   "source": [
    "#getting recoveries list from the data\n",
    "recovered_data = dataset[(dataset.infection_status == 'recovered')]\n",
    "recovered_dates = recovered_data.drop_duplicates(subset=['id']).Date\n",
    "dates_rec = recovered_data.drop_duplicates(subset=['Date']).Date\n",
    "recoveries_list = getCases(dates_rec,recovered_dates)"
   ]
  },
  {
   "cell_type": "code",
   "execution_count": 29,
   "metadata": {},
   "outputs": [],
   "source": [
    "#getting deaths list from the data\n",
    "dead_data = dataset[(dataset.infection_status == 'deceased')]\n",
    "dead_dates = dead_data.drop_duplicates(subset=['id']).Date\n",
    "dates_dead = dead_data.drop_duplicates(subset=['Date']).Date\n",
    "dead_list = getCases(dates_dead,dead_dates)"
   ]
  },
  {
   "cell_type": "code",
   "execution_count": 502,
   "metadata": {},
   "outputs": [
    {
     "data": {
      "image/png": "[encoded data removed]",
      "text/plain": [
       "<Figure size 432x288 with 1 Axes>"
      ]
     },
     "metadata": {
      "needs_background": "light"
     },
     "output_type": "display_data"
    }
   ],
   "source": [
    "#Cases plot w.r.t dates\n",
    "plt.plot(dates_dead, dead_list, color='orange', label = 'Deaths')\n",
    "plt.plot(dates_inf, infections_list, color='black', label = 'Infections')\n",
    "plt.plot(dates_rec, recoveries_list, color='purple', label = 'Recoveries')\n",
    "plt.title(\"Cases W.R.T Dates\")\n",
    "plt.legend()\n",
    "plt.xlabel(\"Dates\")\n",
    "plt.ylabel(\"Cases\")\n",
    "plt.xticks(dates_inf[::29])\n",
    "plt.show()"
   ]
  },
  {
   "cell_type": "markdown",
   "metadata": {},
   "source": [
    "# Task 2.2"
   ]
  },
  {
   "cell_type": "code",
   "execution_count": 34,
   "metadata": {},
   "outputs": [],
   "source": [
    "asymptomatic = dataset[(dataset[\"is_symptomatic\"] == 0) & (dataset[\"infection_status\"] == \"infected\")]\n",
    "symptomatic = dataset[(dataset[\"is_symptomatic\"] == 1) & (dataset[\"infection_status\"] == \"infected\")]"
   ]
  },
  {
   "cell_type": "code",
   "execution_count": 505,
   "metadata": {},
   "outputs": [
    {
     "data": {
      "image/png": "[encoded data removed]",
      "text/plain": [
       "<Figure size 432x288 with 1 Axes>"
      ]
     },
     "metadata": {},
     "output_type": "display_data"
    }
   ],
   "source": [
    "chart = np.array([symptomatic.id.nunique(), asymptomatic.id.nunique()])\n",
    "mlabels = [\"Symptomatic\",\"Asymptomatic\"]\n",
    "plt.pie(chart,labels = mlabels, colors = [\"black\",\"purple\"])\n",
    "plt.title(\"Infection Status Chart\")\n",
    "plt.show()"
   ]
  },
  {
   "cell_type": "markdown",
   "metadata": {},
   "source": [
    "# Task 2.3"
   ]
  },
  {
   "cell_type": "code",
   "execution_count": 482,
   "metadata": {},
   "outputs": [],
   "source": [
    "id_ = dataset[(dataset.id == 37415)]\n",
    "non_id = dataset[(dataset.id != 37415)]"
   ]
  },
  {
   "cell_type": "code",
   "execution_count": 488,
   "metadata": {},
   "outputs": [],
   "source": [
    "times = id_.loc[:,\"Time\"].drop_duplicates()\n",
    "dates = id_.loc[:,\"Date\"].drop_duplicates()"
   ]
  },
  {
   "cell_type": "code",
   "execution_count": 489,
   "metadata": {},
   "outputs": [],
   "source": [
    "proximity = []\n",
    "for date in dates:\n",
    "    for time in times:\n",
    "        indloc = np.array(id_[(id_.Date == date) & (id_.Time == time)].loc[:,\"currentLocationID\"])\n",
    "        people = np.array(non_id[(non_id.Date == date) & (non_id.Time == time)].loc[:,\"currentLocationID\"])\n",
    "        proximity.append(np.count_nonzero((people == indloc)))"
   ]
  },
  {
   "cell_type": "code",
   "execution_count": 499,
   "metadata": {},
   "outputs": [],
   "source": [
    "#selecting only the maximum proximity of every day\n",
    "index = np.array(range(0 , len(proximity), 5))\n",
    "vals = []\n",
    "for i in index:\n",
    "    vals.append(max(proximity[i:i+4]))\n",
    "dat = np.unique(dates)"
   ]
  },
  {
   "cell_type": "code",
   "execution_count": 507,
   "metadata": {},
   "outputs": [
    {
     "data": {
      "image/png": "[encoded data removed]",
      "text/plain": [
       "<Figure size 432x288 with 1 Axes>"
      ]
     },
     "metadata": {
      "needs_background": "light"
     },
     "output_type": "display_data"
    }
   ],
   "source": [
    "plt.plot(dat, vals, color = 'purple')\n",
    "plt.title(\"Proximity Graph of ID 37415 w.r.t Dates\")\n",
    "plt.xlabel(\"Dates\")\n",
    "plt.ylabel(\"Proximity\")\n",
    "plt.xticks(dat[::29]) \n",
    "plt.show()"
   ]
  },
  {
   "cell_type": "markdown",
   "metadata": {},
   "source": [
    "# Task 2.4"
   ]
  },
  {
   "cell_type": "code",
   "execution_count": 82,
   "metadata": {},
   "outputs": [],
   "source": [
    "group1 = dataset[(dataset[\"age\"] >= 0) & (dataset[\"age\"] <= 10)]\n",
    "group2 = dataset[(dataset[\"age\"] > 10) & (dataset[\"age\"] <= 20)]\n",
    "group3 = dataset[(dataset[\"age\"] > 20) & (dataset[\"age\"] <= 30)]\n",
    "group4 = dataset[(dataset[\"age\"] > 30) & (dataset[\"age\"] <= 40)]\n",
    "group5 = dataset[(dataset[\"age\"] > 40) & (dataset[\"age\"] <= 50)]\n",
    "group6 = dataset[(dataset[\"age\"] > 50) & (dataset[\"age\"] <= 60)]\n",
    "group7 = dataset[(dataset[\"age\"] > 60) & (dataset[\"age\"] <= 70)]\n",
    "group8 = dataset[(dataset[\"age\"] > 70) & (dataset[\"age\"] <= 80)]\n",
    "group9 = dataset[(dataset[\"age\"] > 80) & (dataset[\"age\"] <= 90)]"
   ]
  },
  {
   "cell_type": "code",
   "execution_count": 90,
   "metadata": {},
   "outputs": [],
   "source": [
    "age_groups = [group1,group2,group3,group4,group5,group6,group7,group8,group9]"
   ]
  },
  {
   "cell_type": "code",
   "execution_count": 108,
   "metadata": {},
   "outputs": [
    {
     "name": "stdout",
     "output_type": "stream",
     "text": [
      "[0, 0, 0, 55, 53, 74, 21, 6, 6]\n",
      "[289, 619, 1173, 910, 485, 311, 42, 13, 12]\n"
     ]
    }
   ],
   "source": [
    "mor_rates = []\n",
    "inf_rates = []\n",
    "for age in age_groups:\n",
    "    mor_rates.append(age[(age[\"infection_status\"] == \"deceased\")].id.nunique())\n",
    "    inf_rates.append(age[(age[\"infection_status\"] == \"infected\")].id.nunique())\n",
    "print(mor_rates)\n",
    "print(inf_rates)"
   ]
  },
  {
   "cell_type": "code",
   "execution_count": 509,
   "metadata": {},
   "outputs": [
    {
     "name": "stderr",
     "output_type": "stream",
     "text": [
      "/opt/anaconda3/lib/python3.7/site-packages/ipykernel_launcher.py:10: UserWarning:\n",
      "\n",
      "FixedFormatter should only be used together with FixedLocator\n",
      "\n"
     ]
    },
    {
     "data": {
      "image/png": "[encoded data removed]",
      "text/plain": [
       "<Figure size 432x288 with 1 Axes>"
      ]
     },
     "metadata": {
      "needs_background": "light"
     },
     "output_type": "display_data"
    }
   ],
   "source": [
    "width = 0.4\n",
    "fig, ax = plt.subplots()\n",
    "rects1 = ax.bar((x- width/2), inf_rates, width, label='Infected', color = \"purple\")\n",
    "rects2 = ax.bar((x+ width/2), mor_rates, width, label='Deceased', color = \"green\")\n",
    "\n",
    "x = np.arange(len(ages))\n",
    "# Add some text for labels, title and custom x-axis tick labels, etc.\n",
    "ax.set_ylabel('Cases')\n",
    "ax.set_title('Mortality and Infection rates per age groups')\n",
    "ax.set_xticklabels(x * 10)\n",
    "ax.legend()\n",
    "\n",
    "plt.show()"
   ]
  },
  {
   "cell_type": "markdown",
   "metadata": {},
   "source": [
    "# Task 2.5"
   ]
  },
  {
   "cell_type": "markdown",
   "metadata": {},
   "source": [
    "## Visualize the number of individuals at a location on a geographical map."
   ]
  }
 ],
 "metadata": {
  "kernelspec": {
   "display_name": "Python 3",
   "language": "python",
   "name": "python3"
  },
  "language_info": {
   "codemirror_mode": {
    "name": "ipython",
    "version": 3
   },
   "file_extension": ".py",
   "mimetype": "text/x-python",
   "name": "python",
   "nbconvert_exporter": "python",
   "pygments_lexer": "ipython3",
   "version": "3.7.7"
  }
 },
 "nbformat": 4,
 "nbformat_minor": 4
}
